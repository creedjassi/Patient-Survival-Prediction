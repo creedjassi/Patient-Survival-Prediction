{
 "cells": [
  {
   "cell_type": "code",
   "execution_count": 1,
   "metadata": {},
   "outputs": [],
   "source": [
    "import pandas as pd\n",
    "import seaborn as sns\n",
    "import matplotlib.pyplot as plt\n",
    "import numpy as np\n",
    "import sklearn\n",
    "from sklearn.model_selection import train_test_split\n",
    "from sklearn.linear_model import LogisticRegression"
   ]
  },
  {
   "cell_type": "code",
   "execution_count": 2,
   "metadata": {},
   "outputs": [],
   "source": [
    "pharma_data = pd.read_csv('https://raw.githubusercontent.com/dphi-official/Datasets/master/pharma_data/Training_set_advc.csv')"
   ]
  },
  {
   "cell_type": "code",
   "execution_count": 3,
   "metadata": {},
   "outputs": [
    {
     "data": {
      "text/plain": [
       "(25079, 18)"
      ]
     },
     "execution_count": 3,
     "metadata": {},
     "output_type": "execute_result"
    }
   ],
   "source": [
    "pharma_data.shape"
   ]
  },
  {
   "cell_type": "code",
   "execution_count": 4,
   "metadata": {},
   "outputs": [
    {
     "name": "stdout",
     "output_type": "stream",
     "text": [
      "<class 'pandas.core.frame.DataFrame'>\n",
      "RangeIndex: 25079 entries, 0 to 25078\n",
      "Data columns (total 18 columns):\n",
      " #   Column                     Non-Null Count  Dtype  \n",
      "---  ------                     --------------  -----  \n",
      " 0   ID_Patient_Care_Situation  25079 non-null  int64  \n",
      " 1   Diagnosed_Condition        25079 non-null  int64  \n",
      " 2   Patient_ID                 25079 non-null  int64  \n",
      " 3   Treated_with_drugs         25071 non-null  object \n",
      " 4   Patient_Age                25079 non-null  int64  \n",
      " 5   Patient_Body_Mass_Index    25079 non-null  float64\n",
      " 6   Patient_Smoker             25079 non-null  object \n",
      " 7   Patient_Rural_Urban        25079 non-null  object \n",
      " 8   Patient_mental_condition   25079 non-null  object \n",
      " 9   A                          23723 non-null  float64\n",
      " 10  B                          23723 non-null  float64\n",
      " 11  C                          23723 non-null  float64\n",
      " 12  D                          23723 non-null  float64\n",
      " 13  E                          23723 non-null  float64\n",
      " 14  F                          23723 non-null  float64\n",
      " 15  Z                          23723 non-null  float64\n",
      " 16  Number_of_prev_cond        23723 non-null  float64\n",
      " 17  Survived_1_year            25079 non-null  int64  \n",
      "dtypes: float64(9), int64(5), object(4)\n",
      "memory usage: 3.4+ MB\n"
     ]
    }
   ],
   "source": [
    "pharma_data.info()"
   ]
  },
  {
   "cell_type": "code",
   "execution_count": 5,
   "metadata": {},
   "outputs": [
    {
     "data": {
      "text/html": [
       "<div>\n",
       "<style scoped>\n",
       "    .dataframe tbody tr th:only-of-type {\n",
       "        vertical-align: middle;\n",
       "    }\n",
       "\n",
       "    .dataframe tbody tr th {\n",
       "        vertical-align: top;\n",
       "    }\n",
       "\n",
       "    .dataframe thead th {\n",
       "        text-align: right;\n",
       "    }\n",
       "</style>\n",
       "<table border=\"1\" class=\"dataframe\">\n",
       "  <thead>\n",
       "    <tr style=\"text-align: right;\">\n",
       "      <th></th>\n",
       "      <th>ID_Patient_Care_Situation</th>\n",
       "      <th>Diagnosed_Condition</th>\n",
       "      <th>Patient_ID</th>\n",
       "      <th>Patient_Age</th>\n",
       "      <th>Patient_Body_Mass_Index</th>\n",
       "      <th>A</th>\n",
       "      <th>B</th>\n",
       "      <th>C</th>\n",
       "      <th>D</th>\n",
       "      <th>E</th>\n",
       "      <th>F</th>\n",
       "      <th>Z</th>\n",
       "      <th>Number_of_prev_cond</th>\n",
       "      <th>Survived_1_year</th>\n",
       "    </tr>\n",
       "  </thead>\n",
       "  <tbody>\n",
       "    <tr>\n",
       "      <th>count</th>\n",
       "      <td>25079.000000</td>\n",
       "      <td>25079.000000</td>\n",
       "      <td>25079.000000</td>\n",
       "      <td>25079.000000</td>\n",
       "      <td>25079.000000</td>\n",
       "      <td>23723.000000</td>\n",
       "      <td>23723.000000</td>\n",
       "      <td>23723.000000</td>\n",
       "      <td>23723.000000</td>\n",
       "      <td>23723.000000</td>\n",
       "      <td>23723.000000</td>\n",
       "      <td>23723.000000</td>\n",
       "      <td>23723.000000</td>\n",
       "      <td>25079.000000</td>\n",
       "    </tr>\n",
       "    <tr>\n",
       "      <th>mean</th>\n",
       "      <td>16509.925396</td>\n",
       "      <td>26.382631</td>\n",
       "      <td>6237.758523</td>\n",
       "      <td>33.193548</td>\n",
       "      <td>23.439952</td>\n",
       "      <td>0.894111</td>\n",
       "      <td>0.136028</td>\n",
       "      <td>0.183409</td>\n",
       "      <td>0.083716</td>\n",
       "      <td>0.396240</td>\n",
       "      <td>0.054420</td>\n",
       "      <td>0.000337</td>\n",
       "      <td>1.748261</td>\n",
       "      <td>0.634316</td>\n",
       "    </tr>\n",
       "    <tr>\n",
       "      <th>std</th>\n",
       "      <td>9536.958469</td>\n",
       "      <td>15.096967</td>\n",
       "      <td>3603.338849</td>\n",
       "      <td>19.507617</td>\n",
       "      <td>3.778849</td>\n",
       "      <td>0.307702</td>\n",
       "      <td>0.342826</td>\n",
       "      <td>0.387009</td>\n",
       "      <td>0.276968</td>\n",
       "      <td>0.489126</td>\n",
       "      <td>0.226849</td>\n",
       "      <td>0.018361</td>\n",
       "      <td>0.770324</td>\n",
       "      <td>0.481631</td>\n",
       "    </tr>\n",
       "    <tr>\n",
       "      <th>min</th>\n",
       "      <td>1.000000</td>\n",
       "      <td>0.000000</td>\n",
       "      <td>1.000000</td>\n",
       "      <td>0.000000</td>\n",
       "      <td>1.089300</td>\n",
       "      <td>0.000000</td>\n",
       "      <td>0.000000</td>\n",
       "      <td>0.000000</td>\n",
       "      <td>0.000000</td>\n",
       "      <td>0.000000</td>\n",
       "      <td>0.000000</td>\n",
       "      <td>0.000000</td>\n",
       "      <td>1.000000</td>\n",
       "      <td>0.000000</td>\n",
       "    </tr>\n",
       "    <tr>\n",
       "      <th>25%</th>\n",
       "      <td>8220.000000</td>\n",
       "      <td>13.000000</td>\n",
       "      <td>3125.000000</td>\n",
       "      <td>16.000000</td>\n",
       "      <td>20.205050</td>\n",
       "      <td>1.000000</td>\n",
       "      <td>0.000000</td>\n",
       "      <td>0.000000</td>\n",
       "      <td>0.000000</td>\n",
       "      <td>0.000000</td>\n",
       "      <td>0.000000</td>\n",
       "      <td>0.000000</td>\n",
       "      <td>1.000000</td>\n",
       "      <td>0.000000</td>\n",
       "    </tr>\n",
       "    <tr>\n",
       "      <th>50%</th>\n",
       "      <td>16466.000000</td>\n",
       "      <td>26.000000</td>\n",
       "      <td>6228.000000</td>\n",
       "      <td>33.000000</td>\n",
       "      <td>23.369168</td>\n",
       "      <td>1.000000</td>\n",
       "      <td>0.000000</td>\n",
       "      <td>0.000000</td>\n",
       "      <td>0.000000</td>\n",
       "      <td>0.000000</td>\n",
       "      <td>0.000000</td>\n",
       "      <td>0.000000</td>\n",
       "      <td>2.000000</td>\n",
       "      <td>1.000000</td>\n",
       "    </tr>\n",
       "    <tr>\n",
       "      <th>75%</th>\n",
       "      <td>24784.000000</td>\n",
       "      <td>40.000000</td>\n",
       "      <td>9356.500000</td>\n",
       "      <td>50.000000</td>\n",
       "      <td>26.730785</td>\n",
       "      <td>1.000000</td>\n",
       "      <td>0.000000</td>\n",
       "      <td>0.000000</td>\n",
       "      <td>0.000000</td>\n",
       "      <td>1.000000</td>\n",
       "      <td>0.000000</td>\n",
       "      <td>0.000000</td>\n",
       "      <td>2.000000</td>\n",
       "      <td>1.000000</td>\n",
       "    </tr>\n",
       "    <tr>\n",
       "      <th>max</th>\n",
       "      <td>33013.000000</td>\n",
       "      <td>52.000000</td>\n",
       "      <td>12514.000000</td>\n",
       "      <td>142.000000</td>\n",
       "      <td>29.999579</td>\n",
       "      <td>1.000000</td>\n",
       "      <td>1.000000</td>\n",
       "      <td>1.000000</td>\n",
       "      <td>1.000000</td>\n",
       "      <td>1.000000</td>\n",
       "      <td>1.000000</td>\n",
       "      <td>1.000000</td>\n",
       "      <td>5.000000</td>\n",
       "      <td>1.000000</td>\n",
       "    </tr>\n",
       "  </tbody>\n",
       "</table>\n",
       "</div>"
      ],
      "text/plain": [
       "       ID_Patient_Care_Situation  Diagnosed_Condition    Patient_ID  \\\n",
       "count               25079.000000         25079.000000  25079.000000   \n",
       "mean                16509.925396            26.382631   6237.758523   \n",
       "std                  9536.958469            15.096967   3603.338849   \n",
       "min                     1.000000             0.000000      1.000000   \n",
       "25%                  8220.000000            13.000000   3125.000000   \n",
       "50%                 16466.000000            26.000000   6228.000000   \n",
       "75%                 24784.000000            40.000000   9356.500000   \n",
       "max                 33013.000000            52.000000  12514.000000   \n",
       "\n",
       "        Patient_Age  Patient_Body_Mass_Index             A             B  \\\n",
       "count  25079.000000             25079.000000  23723.000000  23723.000000   \n",
       "mean      33.193548                23.439952      0.894111      0.136028   \n",
       "std       19.507617                 3.778849      0.307702      0.342826   \n",
       "min        0.000000                 1.089300      0.000000      0.000000   \n",
       "25%       16.000000                20.205050      1.000000      0.000000   \n",
       "50%       33.000000                23.369168      1.000000      0.000000   \n",
       "75%       50.000000                26.730785      1.000000      0.000000   \n",
       "max      142.000000                29.999579      1.000000      1.000000   \n",
       "\n",
       "                  C             D             E             F             Z  \\\n",
       "count  23723.000000  23723.000000  23723.000000  23723.000000  23723.000000   \n",
       "mean       0.183409      0.083716      0.396240      0.054420      0.000337   \n",
       "std        0.387009      0.276968      0.489126      0.226849      0.018361   \n",
       "min        0.000000      0.000000      0.000000      0.000000      0.000000   \n",
       "25%        0.000000      0.000000      0.000000      0.000000      0.000000   \n",
       "50%        0.000000      0.000000      0.000000      0.000000      0.000000   \n",
       "75%        0.000000      0.000000      1.000000      0.000000      0.000000   \n",
       "max        1.000000      1.000000      1.000000      1.000000      1.000000   \n",
       "\n",
       "       Number_of_prev_cond  Survived_1_year  \n",
       "count         23723.000000     25079.000000  \n",
       "mean              1.748261         0.634316  \n",
       "std               0.770324         0.481631  \n",
       "min               1.000000         0.000000  \n",
       "25%               1.000000         0.000000  \n",
       "50%               2.000000         1.000000  \n",
       "75%               2.000000         1.000000  \n",
       "max               5.000000         1.000000  "
      ]
     },
     "execution_count": 5,
     "metadata": {},
     "output_type": "execute_result"
    }
   ],
   "source": [
    "pharma_data.describe()"
   ]
  },
  {
   "cell_type": "code",
   "execution_count": 6,
   "metadata": {},
   "outputs": [
    {
     "data": {
      "text/html": [
       "<div>\n",
       "<style scoped>\n",
       "    .dataframe tbody tr th:only-of-type {\n",
       "        vertical-align: middle;\n",
       "    }\n",
       "\n",
       "    .dataframe tbody tr th {\n",
       "        vertical-align: top;\n",
       "    }\n",
       "\n",
       "    .dataframe thead th {\n",
       "        text-align: right;\n",
       "    }\n",
       "</style>\n",
       "<table border=\"1\" class=\"dataframe\">\n",
       "  <thead>\n",
       "    <tr style=\"text-align: right;\">\n",
       "      <th></th>\n",
       "      <th>ID_Patient_Care_Situation</th>\n",
       "      <th>Diagnosed_Condition</th>\n",
       "      <th>Patient_ID</th>\n",
       "      <th>Treated_with_drugs</th>\n",
       "      <th>Patient_Age</th>\n",
       "      <th>Patient_Body_Mass_Index</th>\n",
       "      <th>Patient_Smoker</th>\n",
       "      <th>Patient_Rural_Urban</th>\n",
       "      <th>Patient_mental_condition</th>\n",
       "      <th>A</th>\n",
       "      <th>B</th>\n",
       "      <th>C</th>\n",
       "      <th>D</th>\n",
       "      <th>E</th>\n",
       "      <th>F</th>\n",
       "      <th>Z</th>\n",
       "      <th>Number_of_prev_cond</th>\n",
       "      <th>Survived_1_year</th>\n",
       "    </tr>\n",
       "  </thead>\n",
       "  <tbody>\n",
       "    <tr>\n",
       "      <th>0</th>\n",
       "      <td>16201</td>\n",
       "      <td>47</td>\n",
       "      <td>8433</td>\n",
       "      <td>DX2</td>\n",
       "      <td>60</td>\n",
       "      <td>21.655523</td>\n",
       "      <td>NO</td>\n",
       "      <td>URBAN</td>\n",
       "      <td>Stable</td>\n",
       "      <td>1.0</td>\n",
       "      <td>0.0</td>\n",
       "      <td>0.0</td>\n",
       "      <td>0.0</td>\n",
       "      <td>1.0</td>\n",
       "      <td>0.0</td>\n",
       "      <td>0.0</td>\n",
       "      <td>2.0</td>\n",
       "      <td>1</td>\n",
       "    </tr>\n",
       "    <tr>\n",
       "      <th>1</th>\n",
       "      <td>9421</td>\n",
       "      <td>3</td>\n",
       "      <td>2972</td>\n",
       "      <td>DX6</td>\n",
       "      <td>2</td>\n",
       "      <td>28.852743</td>\n",
       "      <td>NO</td>\n",
       "      <td>RURAL</td>\n",
       "      <td>Stable</td>\n",
       "      <td>1.0</td>\n",
       "      <td>0.0</td>\n",
       "      <td>1.0</td>\n",
       "      <td>0.0</td>\n",
       "      <td>1.0</td>\n",
       "      <td>0.0</td>\n",
       "      <td>0.0</td>\n",
       "      <td>3.0</td>\n",
       "      <td>0</td>\n",
       "    </tr>\n",
       "    <tr>\n",
       "      <th>2</th>\n",
       "      <td>16205</td>\n",
       "      <td>7</td>\n",
       "      <td>8608</td>\n",
       "      <td>Dx6</td>\n",
       "      <td>20</td>\n",
       "      <td>26.179725</td>\n",
       "      <td>NO</td>\n",
       "      <td>RURAL</td>\n",
       "      <td>Stable</td>\n",
       "      <td>1.0</td>\n",
       "      <td>0.0</td>\n",
       "      <td>0.0</td>\n",
       "      <td>0.0</td>\n",
       "      <td>1.0</td>\n",
       "      <td>0.0</td>\n",
       "      <td>0.0</td>\n",
       "      <td>2.0</td>\n",
       "      <td>1</td>\n",
       "    </tr>\n",
       "    <tr>\n",
       "      <th>3</th>\n",
       "      <td>5582</td>\n",
       "      <td>31</td>\n",
       "      <td>10074</td>\n",
       "      <td>dx6</td>\n",
       "      <td>8</td>\n",
       "      <td>22.638945</td>\n",
       "      <td>NO</td>\n",
       "      <td>RURAL</td>\n",
       "      <td>Stable</td>\n",
       "      <td>1.0</td>\n",
       "      <td>0.0</td>\n",
       "      <td>0.0</td>\n",
       "      <td>0.0</td>\n",
       "      <td>1.0</td>\n",
       "      <td>0.0</td>\n",
       "      <td>0.0</td>\n",
       "      <td>2.0</td>\n",
       "      <td>0</td>\n",
       "    </tr>\n",
       "    <tr>\n",
       "      <th>4</th>\n",
       "      <td>20880</td>\n",
       "      <td>43</td>\n",
       "      <td>7462</td>\n",
       "      <td>dx1</td>\n",
       "      <td>53</td>\n",
       "      <td>21.326131</td>\n",
       "      <td>NO</td>\n",
       "      <td>RURAL</td>\n",
       "      <td>Stable</td>\n",
       "      <td>1.0</td>\n",
       "      <td>0.0</td>\n",
       "      <td>0.0</td>\n",
       "      <td>0.0</td>\n",
       "      <td>0.0</td>\n",
       "      <td>0.0</td>\n",
       "      <td>0.0</td>\n",
       "      <td>1.0</td>\n",
       "      <td>1</td>\n",
       "    </tr>\n",
       "    <tr>\n",
       "      <th>5</th>\n",
       "      <td>7895</td>\n",
       "      <td>51</td>\n",
       "      <td>848</td>\n",
       "      <td>dx1 dx3 dx4</td>\n",
       "      <td>20</td>\n",
       "      <td>23.438528</td>\n",
       "      <td>NO</td>\n",
       "      <td>RURAL</td>\n",
       "      <td>Stable</td>\n",
       "      <td>1.0</td>\n",
       "      <td>0.0</td>\n",
       "      <td>0.0</td>\n",
       "      <td>0.0</td>\n",
       "      <td>1.0</td>\n",
       "      <td>0.0</td>\n",
       "      <td>0.0</td>\n",
       "      <td>2.0</td>\n",
       "      <td>1</td>\n",
       "    </tr>\n",
       "    <tr>\n",
       "      <th>6</th>\n",
       "      <td>17785</td>\n",
       "      <td>49</td>\n",
       "      <td>6663</td>\n",
       "      <td>DX5</td>\n",
       "      <td>5</td>\n",
       "      <td>23.882432</td>\n",
       "      <td>NO</td>\n",
       "      <td>RURAL</td>\n",
       "      <td>Stable</td>\n",
       "      <td>1.0</td>\n",
       "      <td>0.0</td>\n",
       "      <td>1.0</td>\n",
       "      <td>0.0</td>\n",
       "      <td>0.0</td>\n",
       "      <td>0.0</td>\n",
       "      <td>0.0</td>\n",
       "      <td>2.0</td>\n",
       "      <td>1</td>\n",
       "    </tr>\n",
       "    <tr>\n",
       "      <th>7</th>\n",
       "      <td>343</td>\n",
       "      <td>35</td>\n",
       "      <td>248</td>\n",
       "      <td>dx2</td>\n",
       "      <td>45</td>\n",
       "      <td>17.059734</td>\n",
       "      <td>NO</td>\n",
       "      <td>URBAN</td>\n",
       "      <td>Stable</td>\n",
       "      <td>1.0</td>\n",
       "      <td>0.0</td>\n",
       "      <td>0.0</td>\n",
       "      <td>0.0</td>\n",
       "      <td>0.0</td>\n",
       "      <td>0.0</td>\n",
       "      <td>0.0</td>\n",
       "      <td>1.0</td>\n",
       "      <td>1</td>\n",
       "    </tr>\n",
       "    <tr>\n",
       "      <th>8</th>\n",
       "      <td>11729</td>\n",
       "      <td>36</td>\n",
       "      <td>8098</td>\n",
       "      <td>dx6</td>\n",
       "      <td>43</td>\n",
       "      <td>22.182933</td>\n",
       "      <td>YES</td>\n",
       "      <td>RURAL</td>\n",
       "      <td>Stable</td>\n",
       "      <td>1.0</td>\n",
       "      <td>0.0</td>\n",
       "      <td>0.0</td>\n",
       "      <td>1.0</td>\n",
       "      <td>0.0</td>\n",
       "      <td>0.0</td>\n",
       "      <td>0.0</td>\n",
       "      <td>2.0</td>\n",
       "      <td>0</td>\n",
       "    </tr>\n",
       "    <tr>\n",
       "      <th>9</th>\n",
       "      <td>15319</td>\n",
       "      <td>15</td>\n",
       "      <td>10018</td>\n",
       "      <td>DX6</td>\n",
       "      <td>60</td>\n",
       "      <td>17.956259</td>\n",
       "      <td>NO</td>\n",
       "      <td>RURAL</td>\n",
       "      <td>Stable</td>\n",
       "      <td>1.0</td>\n",
       "      <td>1.0</td>\n",
       "      <td>1.0</td>\n",
       "      <td>0.0</td>\n",
       "      <td>0.0</td>\n",
       "      <td>0.0</td>\n",
       "      <td>0.0</td>\n",
       "      <td>3.0</td>\n",
       "      <td>0</td>\n",
       "    </tr>\n",
       "  </tbody>\n",
       "</table>\n",
       "</div>"
      ],
      "text/plain": [
       "   ID_Patient_Care_Situation  Diagnosed_Condition  Patient_ID  \\\n",
       "0                      16201                   47        8433   \n",
       "1                       9421                    3        2972   \n",
       "2                      16205                    7        8608   \n",
       "3                       5582                   31       10074   \n",
       "4                      20880                   43        7462   \n",
       "5                       7895                   51         848   \n",
       "6                      17785                   49        6663   \n",
       "7                        343                   35         248   \n",
       "8                      11729                   36        8098   \n",
       "9                      15319                   15       10018   \n",
       "\n",
       "  Treated_with_drugs  Patient_Age  Patient_Body_Mass_Index Patient_Smoker  \\\n",
       "0                DX2           60                21.655523             NO   \n",
       "1                DX6            2                28.852743             NO   \n",
       "2                Dx6           20                26.179725             NO   \n",
       "3               dx6             8                22.638945             NO   \n",
       "4                dx1           53                21.326131             NO   \n",
       "5       dx1 dx3 dx4            20                23.438528             NO   \n",
       "6               DX5             5                23.882432            NO    \n",
       "7               dx2            45                17.059734             NO   \n",
       "8                dx6           43                22.182933            YES   \n",
       "9                DX6           60                17.956259             NO   \n",
       "\n",
       "  Patient_Rural_Urban Patient_mental_condition    A    B    C    D    E    F  \\\n",
       "0               URBAN                   Stable  1.0  0.0  0.0  0.0  1.0  0.0   \n",
       "1               RURAL                   Stable  1.0  0.0  1.0  0.0  1.0  0.0   \n",
       "2               RURAL                   Stable  1.0  0.0  0.0  0.0  1.0  0.0   \n",
       "3               RURAL                   Stable  1.0  0.0  0.0  0.0  1.0  0.0   \n",
       "4               RURAL                   Stable  1.0  0.0  0.0  0.0  0.0  0.0   \n",
       "5               RURAL                   Stable  1.0  0.0  0.0  0.0  1.0  0.0   \n",
       "6               RURAL                   Stable  1.0  0.0  1.0  0.0  0.0  0.0   \n",
       "7               URBAN                   Stable  1.0  0.0  0.0  0.0  0.0  0.0   \n",
       "8               RURAL                   Stable  1.0  0.0  0.0  1.0  0.0  0.0   \n",
       "9               RURAL                   Stable  1.0  1.0  1.0  0.0  0.0  0.0   \n",
       "\n",
       "     Z  Number_of_prev_cond  Survived_1_year  \n",
       "0  0.0                  2.0                1  \n",
       "1  0.0                  3.0                0  \n",
       "2  0.0                  2.0                1  \n",
       "3  0.0                  2.0                0  \n",
       "4  0.0                  1.0                1  \n",
       "5  0.0                  2.0                1  \n",
       "6  0.0                  2.0                1  \n",
       "7  0.0                  1.0                1  \n",
       "8  0.0                  2.0                0  \n",
       "9  0.0                  3.0                0  "
      ]
     },
     "execution_count": 6,
     "metadata": {},
     "output_type": "execute_result"
    }
   ],
   "source": [
    "pharma_data.head(10)"
   ]
  },
  {
   "cell_type": "code",
   "execution_count": 7,
   "metadata": {},
   "outputs": [
    {
     "data": {
      "text/plain": [
       "ID_Patient_Care_Situation       0\n",
       "Diagnosed_Condition             0\n",
       "Patient_ID                      0\n",
       "Treated_with_drugs              8\n",
       "Patient_Age                     0\n",
       "Patient_Body_Mass_Index         0\n",
       "Patient_Smoker                  0\n",
       "Patient_Rural_Urban             0\n",
       "Patient_mental_condition        0\n",
       "A                            1356\n",
       "B                            1356\n",
       "C                            1356\n",
       "D                            1356\n",
       "E                            1356\n",
       "F                            1356\n",
       "Z                            1356\n",
       "Number_of_prev_cond          1356\n",
       "Survived_1_year                 0\n",
       "dtype: int64"
      ]
     },
     "execution_count": 7,
     "metadata": {},
     "output_type": "execute_result"
    }
   ],
   "source": [
    "pharma_data.isnull().sum()"
   ]
  },
  {
   "cell_type": "code",
   "execution_count": 8,
   "metadata": {},
   "outputs": [
    {
     "name": "stdout",
     "output_type": "stream",
     "text": [
      "1.0    21211\n",
      "0.0     2512\n",
      "Name: A, dtype: int64\n",
      "0.0    20496\n",
      "1.0     3227\n",
      "Name: B, dtype: int64\n",
      "0.0    19372\n",
      "1.0     4351\n",
      "Name: C, dtype: int64\n",
      "0.0    21737\n",
      "1.0     1986\n",
      "Name: D, dtype: int64\n",
      "0.0    14323\n",
      "1.0     9400\n",
      "Name: E, dtype: int64\n",
      "0.0    22432\n",
      "1.0     1291\n",
      "Name: F, dtype: int64\n",
      "0.0    23715\n",
      "1.0        8\n",
      "Name: Z, dtype: int64\n"
     ]
    }
   ],
   "source": [
    "print(pharma_data['A'].value_counts())\n",
    "print(pharma_data['B'].value_counts())\n",
    "print(pharma_data['C'].value_counts())\n",
    "print(pharma_data['D'].value_counts())\n",
    "print(pharma_data['E'].value_counts())\n",
    "print(pharma_data['F'].value_counts())\n",
    "print(pharma_data['Z'].value_counts())"
   ]
  },
  {
   "cell_type": "code",
   "execution_count": 9,
   "metadata": {},
   "outputs": [
    {
     "data": {
      "text/plain": [
       "1.0    10233\n",
       "2.0     9733\n",
       "3.0     3292\n",
       "4.0      426\n",
       "5.0       39\n",
       "Name: Number_of_prev_cond, dtype: int64"
      ]
     },
     "execution_count": 9,
     "metadata": {},
     "output_type": "execute_result"
    }
   ],
   "source": [
    "pharma_data['Number_of_prev_cond'].value_counts()"
   ]
  },
  {
   "cell_type": "code",
   "execution_count": 10,
   "metadata": {},
   "outputs": [],
   "source": [
    "pharma_data['A'].fillna(1,inplace=True)\n",
    "pharma_data['B'].fillna(0,inplace=True)\n",
    "pharma_data['C'].fillna(0,inplace=True)\n",
    "pharma_data['D'].fillna(0,inplace=True)\n",
    "pharma_data['E'].fillna(0,inplace=True)\n",
    "pharma_data['F'].fillna(0,inplace=True)\n",
    "pharma_data['Z'].fillna(0,inplace=True)"
   ]
  },
  {
   "cell_type": "code",
   "execution_count": 11,
   "metadata": {},
   "outputs": [
    {
     "data": {
      "text/plain": [
       "ID_Patient_Care_Situation       0\n",
       "Diagnosed_Condition             0\n",
       "Patient_ID                      0\n",
       "Treated_with_drugs              8\n",
       "Patient_Age                     0\n",
       "Patient_Body_Mass_Index         0\n",
       "Patient_Smoker                  0\n",
       "Patient_Rural_Urban             0\n",
       "Patient_mental_condition        0\n",
       "A                               0\n",
       "B                               0\n",
       "C                               0\n",
       "D                               0\n",
       "E                               0\n",
       "F                               0\n",
       "Z                               0\n",
       "Number_of_prev_cond          1356\n",
       "Survived_1_year                 0\n",
       "dtype: int64"
      ]
     },
     "execution_count": 11,
     "metadata": {},
     "output_type": "execute_result"
    }
   ],
   "source": [
    "pharma_data.isnull().sum()"
   ]
  },
  {
   "cell_type": "code",
   "execution_count": 12,
   "metadata": {},
   "outputs": [],
   "source": [
    "pharma_data['Patient_Smoker']=pharma_data['Patient_Smoker'].replace({'YES':1,'YESS':1,'YESS ':1, 'YES ':1,'NO':0,'NO ':0,'Cannot say ':0,\n",
    "       'Cannot say':0, 'CANNOT SAY ':0, 'CANNOT SAY':0})"
   ]
  },
  {
   "cell_type": "code",
   "execution_count": 13,
   "metadata": {},
   "outputs": [],
   "source": [
    "pharma_data['Treated_with_drugs'].fillna('DX6',inplace=True)"
   ]
  },
  {
   "cell_type": "code",
   "execution_count": 14,
   "metadata": {},
   "outputs": [],
   "source": [
    "pharma_data['Number_of_prev_cond'].fillna(1.0,inplace=True)"
   ]
  },
  {
   "cell_type": "code",
   "execution_count": 15,
   "metadata": {},
   "outputs": [
    {
     "data": {
      "text/plain": [
       "ID_Patient_Care_Situation    0\n",
       "Diagnosed_Condition          0\n",
       "Patient_ID                   0\n",
       "Treated_with_drugs           0\n",
       "Patient_Age                  0\n",
       "Patient_Body_Mass_Index      0\n",
       "Patient_Smoker               0\n",
       "Patient_Rural_Urban          0\n",
       "Patient_mental_condition     0\n",
       "A                            0\n",
       "B                            0\n",
       "C                            0\n",
       "D                            0\n",
       "E                            0\n",
       "F                            0\n",
       "Z                            0\n",
       "Number_of_prev_cond          0\n",
       "Survived_1_year              0\n",
       "dtype: int64"
      ]
     },
     "execution_count": 15,
     "metadata": {},
     "output_type": "execute_result"
    }
   ],
   "source": [
    "pharma_data.isnull().sum()"
   ]
  },
  {
   "cell_type": "code",
   "execution_count": 16,
   "metadata": {},
   "outputs": [
    {
     "data": {
      "text/plain": [
       "1    15908\n",
       "0     9171\n",
       "Name: Survived_1_year, dtype: int64"
      ]
     },
     "execution_count": 16,
     "metadata": {},
     "output_type": "execute_result"
    }
   ],
   "source": [
    "pharma_data['Survived_1_year'].value_counts()"
   ]
  },
  {
   "cell_type": "code",
   "execution_count": 17,
   "metadata": {},
   "outputs": [
    {
     "data": {
      "text/plain": [
       "0.6343155628214842"
      ]
     },
     "execution_count": 17,
     "metadata": {},
     "output_type": "execute_result"
    }
   ],
   "source": [
    "15908/len(pharma_data)"
   ]
  },
  {
   "cell_type": "code",
   "execution_count": 18,
   "metadata": {},
   "outputs": [
    {
     "data": {
      "text/plain": [
       "0.3656844371785159"
      ]
     },
     "execution_count": 18,
     "metadata": {},
     "output_type": "execute_result"
    }
   ],
   "source": [
    "9171/len(pharma_data)"
   ]
  },
  {
   "cell_type": "code",
   "execution_count": 19,
   "metadata": {},
   "outputs": [
    {
     "name": "stdout",
     "output_type": "stream",
     "text": [
      "<class 'pandas.core.frame.DataFrame'>\n",
      "RangeIndex: 25079 entries, 0 to 25078\n",
      "Data columns (total 18 columns):\n",
      " #   Column                     Non-Null Count  Dtype  \n",
      "---  ------                     --------------  -----  \n",
      " 0   ID_Patient_Care_Situation  25079 non-null  int64  \n",
      " 1   Diagnosed_Condition        25079 non-null  int64  \n",
      " 2   Patient_ID                 25079 non-null  int64  \n",
      " 3   Treated_with_drugs         25079 non-null  object \n",
      " 4   Patient_Age                25079 non-null  int64  \n",
      " 5   Patient_Body_Mass_Index    25079 non-null  float64\n",
      " 6   Patient_Smoker             25079 non-null  int64  \n",
      " 7   Patient_Rural_Urban        25079 non-null  object \n",
      " 8   Patient_mental_condition   25079 non-null  object \n",
      " 9   A                          25079 non-null  float64\n",
      " 10  B                          25079 non-null  float64\n",
      " 11  C                          25079 non-null  float64\n",
      " 12  D                          25079 non-null  float64\n",
      " 13  E                          25079 non-null  float64\n",
      " 14  F                          25079 non-null  float64\n",
      " 15  Z                          25079 non-null  float64\n",
      " 16  Number_of_prev_cond        25079 non-null  float64\n",
      " 17  Survived_1_year            25079 non-null  int64  \n",
      "dtypes: float64(9), int64(6), object(3)\n",
      "memory usage: 3.4+ MB\n"
     ]
    }
   ],
   "source": [
    "pharma_data.info()"
   ]
  },
  {
   "cell_type": "code",
   "execution_count": 20,
   "metadata": {},
   "outputs": [
    {
     "data": {
      "text/plain": [
       "RURAL    17482\n",
       "URBAN     7597\n",
       "Name: Patient_Rural_Urban, dtype: int64"
      ]
     },
     "execution_count": 20,
     "metadata": {},
     "output_type": "execute_result"
    }
   ],
   "source": [
    "pharma_data['Patient_Rural_Urban'].value_counts()"
   ]
  },
  {
   "cell_type": "code",
   "execution_count": 21,
   "metadata": {},
   "outputs": [],
   "source": [
    "pharma_data['Patient_Rural_Urban']=pharma_data['Patient_Rural_Urban'].replace({'RURAL':0,'URBAN':1})"
   ]
  },
  {
   "cell_type": "code",
   "execution_count": 22,
   "metadata": {},
   "outputs": [],
   "source": [
    "pharma_data=pharma_data.drop('Patient_mental_condition',axis=1)"
   ]
  },
  {
   "cell_type": "code",
   "execution_count": 23,
   "metadata": {},
   "outputs": [],
   "source": [
    "pharma_data['Treated_with_drugs']=pharma_data['Treated_with_drugs'].str.strip()"
   ]
  },
  {
   "cell_type": "code",
   "execution_count": 24,
   "metadata": {},
   "outputs": [
    {
     "data": {
      "text/plain": [
       "array(['DX2', 'DX6', 'Dx6', 'dx6', 'dx1', 'dx1 dx3 dx4', 'DX5', 'dx2',\n",
       "       'DX2 DX5', 'DX1', 'DX3 DX5', 'DX1 DX3', 'DX3 DX4', 'Dx3',\n",
       "       'DX2 DX3', 'DX3', 'dx4', 'Dx2', 'Dx1', 'DX1 DX2 DX3 DX5',\n",
       "       'Dx1 dx3', 'Dx5', 'DX4', 'dx3', 'DX3 DX4 DX5', 'DX1 DX5',\n",
       "       'DX2 DX4', 'dx2 dx3', 'DX2 DX3 DX4', 'DX4 DX5', 'dx5', 'Dx4',\n",
       "       'DX1 DX3 DX5', 'DX1 DX4', 'dx4 dx5', 'DX1 DX2', 'dx1 dx4',\n",
       "       'Dx1 dx4', 'Dx1 dx2 dx4 dx5', 'Dx4 dx5', 'DX1 DX3 DX4',\n",
       "       'DX1 DX2 DX3', 'Dx1 dx2', 'DX1 DX4 DX5', 'dx2 dx5', 'dx3 dx4',\n",
       "       'dx2 dx4', 'dx3 dx5', 'DX1 DX2 DX4', 'Dx1 dx2 dx3 dx5',\n",
       "       'dx1 dx3 dx5', 'Dx2 dx5', 'dx2 dx3 dx4', 'DX1 DX2 DX5',\n",
       "       'DX2 DX4 DX5', 'DX2 DX3 DX5', 'Dx1 dx2 dx4', 'dx1 dx5',\n",
       "       'Dx3 dx4 dx5', 'Dx2 dx3 dx5', 'dx1 dx2 dx4', 'Dx2 dx3 dx4',\n",
       "       'Dx3 dx5', 'Dx2 dx4', 'dx1 dx2 dx4 dx5', 'Dx2 dx3', 'dx1 dx2',\n",
       "       'DX1 DX2 DX3 DX4', 'Dx1 dx5', 'Dx1 dx2 dx5', 'DX1 DX3 DX4 DX5',\n",
       "       'dx1 dx3', 'dx1 dx2 dx5', 'Dx3 dx4', 'dx1 dx4 dx5', 'Dx1 dx3 dx5',\n",
       "       'Dx2 dx4 dx5', 'dx3 dx4 dx5', 'DX1 DX2 DX4 DX5', 'Dx1 dx4 dx5',\n",
       "       'DX2 DX3 DX4 DX5', 'Dx1 dx3 dx4', 'dx2 dx3 dx5', 'Dx1 dx2 dx3',\n",
       "       'dx2 dx3 dx4 dx5', 'dx1 dx2 dx3', 'DX1 DX2 DX3 DX4 DX5',\n",
       "       'dx1 dx3 dx4 dx5', 'dx1 dx2 dx3 dx5', 'dx1 dx2 dx3 dx4',\n",
       "       'dx2 dx4 dx5', 'Dx1 dx2 dx3 dx4', 'Dx2 dx3 dx4 dx5',\n",
       "       'Dx1 dx3 dx4 dx5'], dtype=object)"
      ]
     },
     "execution_count": 24,
     "metadata": {},
     "output_type": "execute_result"
    }
   ],
   "source": [
    "pharma_data['Treated_with_drugs'].unique()"
   ]
  },
  {
   "cell_type": "code",
   "execution_count": 25,
   "metadata": {},
   "outputs": [],
   "source": [
    "pharma_data['Treated_with_drugs']=pharma_data['Treated_with_drugs'].str.upper()"
   ]
  },
  {
   "cell_type": "code",
   "execution_count": 26,
   "metadata": {},
   "outputs": [],
   "source": [
    "pharma_data['Treated_with_drugs']=pharma_data['Treated_with_drugs'].replace({'DX6 ':'DX6','DX2 ':'DX2','DX1 ':'DX1','DX5 ':'DX5','DX4 ':'DX4','DX2 DX3 DX4 ':'DX2 DX3 DX4','DX1 DX3 DX4 ':'DX1 DX3 DX4','DX2 DX5 ':'DX2 DX5','DX3 DX4 ':'DX3 DX4','DX3 ':'DX3','DX3 DX4 DX5 ':'DX3 DX4 DX5','DX1 DX3 ':'DX1 DX3','DX2 DX3 ':'DX2 DX3', 'DX3 DX5 ':'DX3 DX5', 'DX2 DX3 DX4 ':'DX2 DX3 DX4', 'DX4 DX5 ':'DX4 DX5','DX1 DX5 ':'DX1 DX5', 'DX1 DX4 ':'DX1 DX4', 'DX1 DX3 DX5 ': 'DX1 DX3 DX5','DX1 DX2 DX4 DX5 ':'DX1 DX2 DX4 DX5','DX1 DX4 DX5 ':'DX1 DX4 DX5','DX2 DX4 ':'DX2 DX4','DX2 DX3 DX5 ':'DX2 DX3 DX5','DX1 DX2 DX4 ':'DX1 DX2 DX4','DX1 DX2 DX3 ':'DX1 DX2 DX3', 'DX2 DX4 DX5 ':'DX2 DX4 DX5','DX1 DX2 DX5 ':'DX1 DX2 DX5','DX1 DX2 DX3 DX4 ':'DX1 DX2 DX3 DX4','DX1 DX3 DX4 DX5 ':'DX1 DX3 DX4 DX5', 'DX2 DX3 DX4 DX5 ':'DX2 DX3 DX4 DX5', 'DX1 DX2 DX3 DX5 ':'DX1 DX2 DX3 DX5',\n",
    "       'DX1 DX2 DX3 DX4 DX5 ':'DX1 DX2 DX3 DX4 DX5'})"
   ]
  },
  {
   "cell_type": "code",
   "execution_count": 27,
   "metadata": {},
   "outputs": [
    {
     "data": {
      "text/plain": [
       "array(['DX2', 'DX6', 'DX1', 'DX1 DX3 DX4', 'DX5', 'DX2 DX5', 'DX3 DX5',\n",
       "       'DX1 DX3', 'DX3 DX4', 'DX3', 'DX2 DX3', 'DX4', 'DX1 DX2 DX3 DX5',\n",
       "       'DX3 DX4 DX5', 'DX1 DX5', 'DX2 DX4', 'DX2 DX3 DX4', 'DX4 DX5',\n",
       "       'DX1 DX3 DX5', 'DX1 DX4', 'DX1 DX2', 'DX1 DX2 DX4 DX5',\n",
       "       'DX1 DX2 DX3', 'DX1 DX4 DX5', 'DX1 DX2 DX4', 'DX1 DX2 DX5',\n",
       "       'DX2 DX4 DX5', 'DX2 DX3 DX5', 'DX1 DX2 DX3 DX4', 'DX1 DX3 DX4 DX5',\n",
       "       'DX2 DX3 DX4 DX5', 'DX1 DX2 DX3 DX4 DX5'], dtype=object)"
      ]
     },
     "execution_count": 27,
     "metadata": {},
     "output_type": "execute_result"
    }
   ],
   "source": [
    "pharma_data['Treated_with_drugs'].unique()"
   ]
  },
  {
   "cell_type": "code",
   "execution_count": 28,
   "metadata": {},
   "outputs": [
    {
     "data": {
      "text/plain": [
       "25079"
      ]
     },
     "execution_count": 28,
     "metadata": {},
     "output_type": "execute_result"
    }
   ],
   "source": [
    "len(pharma_data)"
   ]
  },
  {
   "cell_type": "code",
   "execution_count": 29,
   "metadata": {},
   "outputs": [],
   "source": [
    "DX1=[]\n",
    "DX2=[]\n",
    "DX3=[]\n",
    "DX4=[]\n",
    "DX5=[]\n",
    "for i in range(len(pharma_data)):\n",
    "    s=[]\n",
    "    s=pharma_data['Treated_with_drugs'][i]\n",
    "    if s.find('DX1')!=-1:\n",
    "        DX1.append(1)\n",
    "    else:\n",
    "        DX1.append(0)\n",
    "    if s.find('DX2')!=-1:\n",
    "        DX2.append(1)\n",
    "    else:\n",
    "        DX2.append(0)\n",
    "    if s.find('DX3')!=-1:\n",
    "        DX3.append(1)\n",
    "    else:\n",
    "        DX3.append(0)    \n",
    "    if s.find('DX4')!=-1:\n",
    "        DX4.append(1)\n",
    "    else:\n",
    "        DX4.append(0)    \n",
    "    if s.find('DX5')!=-1:\n",
    "        DX5.append(1)\n",
    "    else:\n",
    "        DX5.append(0)    "
   ]
  },
  {
   "cell_type": "code",
   "execution_count": 30,
   "metadata": {},
   "outputs": [],
   "source": [
    "num_of_drugs=[]\n",
    "for i in range(len(DX1)):\n",
    "    num_of_drugs.append(DX1[i]+DX2[i]+DX3[i]+DX4[i]+DX5[i])"
   ]
  },
  {
   "cell_type": "code",
   "execution_count": 31,
   "metadata": {},
   "outputs": [
    {
     "data": {
      "text/plain": [
       "25079"
      ]
     },
     "execution_count": 31,
     "metadata": {},
     "output_type": "execute_result"
    }
   ],
   "source": [
    "len(num_of_drugs)"
   ]
  },
  {
   "cell_type": "code",
   "execution_count": 32,
   "metadata": {},
   "outputs": [
    {
     "name": "stdout",
     "output_type": "stream",
     "text": [
      "<class 'pandas.core.frame.DataFrame'>\n",
      "RangeIndex: 25079 entries, 0 to 25078\n",
      "Data columns (total 17 columns):\n",
      " #   Column                     Non-Null Count  Dtype  \n",
      "---  ------                     --------------  -----  \n",
      " 0   ID_Patient_Care_Situation  25079 non-null  int64  \n",
      " 1   Diagnosed_Condition        25079 non-null  int64  \n",
      " 2   Patient_ID                 25079 non-null  int64  \n",
      " 3   Treated_with_drugs         25079 non-null  object \n",
      " 4   Patient_Age                25079 non-null  int64  \n",
      " 5   Patient_Body_Mass_Index    25079 non-null  float64\n",
      " 6   Patient_Smoker             25079 non-null  int64  \n",
      " 7   Patient_Rural_Urban        25079 non-null  int64  \n",
      " 8   A                          25079 non-null  float64\n",
      " 9   B                          25079 non-null  float64\n",
      " 10  C                          25079 non-null  float64\n",
      " 11  D                          25079 non-null  float64\n",
      " 12  E                          25079 non-null  float64\n",
      " 13  F                          25079 non-null  float64\n",
      " 14  Z                          25079 non-null  float64\n",
      " 15  Number_of_prev_cond        25079 non-null  float64\n",
      " 16  Survived_1_year            25079 non-null  int64  \n",
      "dtypes: float64(9), int64(7), object(1)\n",
      "memory usage: 3.3+ MB\n"
     ]
    }
   ],
   "source": [
    "pharma_data.info()"
   ]
  },
  {
   "cell_type": "code",
   "execution_count": 33,
   "metadata": {},
   "outputs": [
    {
     "data": {
      "text/plain": [
       "['ID_Patient_Care_Situation',\n",
       " 'Diagnosed_Condition',\n",
       " 'Patient_ID',\n",
       " 'Treated_with_drugs',\n",
       " 'Patient_Age',\n",
       " 'Patient_Body_Mass_Index',\n",
       " 'Patient_Smoker',\n",
       " 'Patient_Rural_Urban',\n",
       " 'A',\n",
       " 'B',\n",
       " 'C',\n",
       " 'D',\n",
       " 'E',\n",
       " 'F',\n",
       " 'Z',\n",
       " 'Number_of_prev_cond',\n",
       " 'Survived_1_year']"
      ]
     },
     "execution_count": 33,
     "metadata": {},
     "output_type": "execute_result"
    }
   ],
   "source": [
    "pharma_data.columns.tolist()"
   ]
  },
  {
   "cell_type": "code",
   "execution_count": 34,
   "metadata": {},
   "outputs": [],
   "source": [
    "pharma_data_new=pharma_data.drop(['Treated_with_drugs','Patient_Age','Patient_Body_Mass_Index','Patient_Smoker','Patient_Rural_Urban','A','B','C','D','E','F','Z','Number_of_prev_cond','Survived_1_year'],axis=1)"
   ]
  },
  {
   "cell_type": "code",
   "execution_count": 35,
   "metadata": {},
   "outputs": [
    {
     "data": {
      "text/html": [
       "<div>\n",
       "<style scoped>\n",
       "    .dataframe tbody tr th:only-of-type {\n",
       "        vertical-align: middle;\n",
       "    }\n",
       "\n",
       "    .dataframe tbody tr th {\n",
       "        vertical-align: top;\n",
       "    }\n",
       "\n",
       "    .dataframe thead th {\n",
       "        text-align: right;\n",
       "    }\n",
       "</style>\n",
       "<table border=\"1\" class=\"dataframe\">\n",
       "  <thead>\n",
       "    <tr style=\"text-align: right;\">\n",
       "      <th></th>\n",
       "      <th>ID_Patient_Care_Situation</th>\n",
       "      <th>Diagnosed_Condition</th>\n",
       "      <th>Patient_ID</th>\n",
       "    </tr>\n",
       "  </thead>\n",
       "  <tbody>\n",
       "    <tr>\n",
       "      <th>0</th>\n",
       "      <td>16201</td>\n",
       "      <td>47</td>\n",
       "      <td>8433</td>\n",
       "    </tr>\n",
       "    <tr>\n",
       "      <th>1</th>\n",
       "      <td>9421</td>\n",
       "      <td>3</td>\n",
       "      <td>2972</td>\n",
       "    </tr>\n",
       "    <tr>\n",
       "      <th>2</th>\n",
       "      <td>16205</td>\n",
       "      <td>7</td>\n",
       "      <td>8608</td>\n",
       "    </tr>\n",
       "    <tr>\n",
       "      <th>3</th>\n",
       "      <td>5582</td>\n",
       "      <td>31</td>\n",
       "      <td>10074</td>\n",
       "    </tr>\n",
       "    <tr>\n",
       "      <th>4</th>\n",
       "      <td>20880</td>\n",
       "      <td>43</td>\n",
       "      <td>7462</td>\n",
       "    </tr>\n",
       "  </tbody>\n",
       "</table>\n",
       "</div>"
      ],
      "text/plain": [
       "   ID_Patient_Care_Situation  Diagnosed_Condition  Patient_ID\n",
       "0                      16201                   47        8433\n",
       "1                       9421                    3        2972\n",
       "2                      16205                    7        8608\n",
       "3                       5582                   31       10074\n",
       "4                      20880                   43        7462"
      ]
     },
     "execution_count": 35,
     "metadata": {},
     "output_type": "execute_result"
    }
   ],
   "source": [
    "pharma_data_new.head()"
   ]
  },
  {
   "cell_type": "code",
   "execution_count": 36,
   "metadata": {},
   "outputs": [],
   "source": [
    "pharma_data_new['DX1']=DX1\n",
    "pharma_data_new['DX2']=DX2\n",
    "pharma_data_new['DX3']=DX3\n",
    "pharma_data_new['DX4']=DX4\n",
    "pharma_data_new['DX5']=DX5"
   ]
  },
  {
   "cell_type": "code",
   "execution_count": 37,
   "metadata": {},
   "outputs": [
    {
     "data": {
      "text/html": [
       "<div>\n",
       "<style scoped>\n",
       "    .dataframe tbody tr th:only-of-type {\n",
       "        vertical-align: middle;\n",
       "    }\n",
       "\n",
       "    .dataframe tbody tr th {\n",
       "        vertical-align: top;\n",
       "    }\n",
       "\n",
       "    .dataframe thead th {\n",
       "        text-align: right;\n",
       "    }\n",
       "</style>\n",
       "<table border=\"1\" class=\"dataframe\">\n",
       "  <thead>\n",
       "    <tr style=\"text-align: right;\">\n",
       "      <th></th>\n",
       "      <th>ID_Patient_Care_Situation</th>\n",
       "      <th>Diagnosed_Condition</th>\n",
       "      <th>Patient_ID</th>\n",
       "      <th>DX1</th>\n",
       "      <th>DX2</th>\n",
       "      <th>DX3</th>\n",
       "      <th>DX4</th>\n",
       "      <th>DX5</th>\n",
       "    </tr>\n",
       "  </thead>\n",
       "  <tbody>\n",
       "    <tr>\n",
       "      <th>0</th>\n",
       "      <td>16201</td>\n",
       "      <td>47</td>\n",
       "      <td>8433</td>\n",
       "      <td>0</td>\n",
       "      <td>1</td>\n",
       "      <td>0</td>\n",
       "      <td>0</td>\n",
       "      <td>0</td>\n",
       "    </tr>\n",
       "    <tr>\n",
       "      <th>1</th>\n",
       "      <td>9421</td>\n",
       "      <td>3</td>\n",
       "      <td>2972</td>\n",
       "      <td>0</td>\n",
       "      <td>0</td>\n",
       "      <td>0</td>\n",
       "      <td>0</td>\n",
       "      <td>0</td>\n",
       "    </tr>\n",
       "    <tr>\n",
       "      <th>2</th>\n",
       "      <td>16205</td>\n",
       "      <td>7</td>\n",
       "      <td>8608</td>\n",
       "      <td>0</td>\n",
       "      <td>0</td>\n",
       "      <td>0</td>\n",
       "      <td>0</td>\n",
       "      <td>0</td>\n",
       "    </tr>\n",
       "    <tr>\n",
       "      <th>3</th>\n",
       "      <td>5582</td>\n",
       "      <td>31</td>\n",
       "      <td>10074</td>\n",
       "      <td>0</td>\n",
       "      <td>0</td>\n",
       "      <td>0</td>\n",
       "      <td>0</td>\n",
       "      <td>0</td>\n",
       "    </tr>\n",
       "    <tr>\n",
       "      <th>4</th>\n",
       "      <td>20880</td>\n",
       "      <td>43</td>\n",
       "      <td>7462</td>\n",
       "      <td>1</td>\n",
       "      <td>0</td>\n",
       "      <td>0</td>\n",
       "      <td>0</td>\n",
       "      <td>0</td>\n",
       "    </tr>\n",
       "  </tbody>\n",
       "</table>\n",
       "</div>"
      ],
      "text/plain": [
       "   ID_Patient_Care_Situation  Diagnosed_Condition  Patient_ID  DX1  DX2  DX3  \\\n",
       "0                      16201                   47        8433    0    1    0   \n",
       "1                       9421                    3        2972    0    0    0   \n",
       "2                      16205                    7        8608    0    0    0   \n",
       "3                       5582                   31       10074    0    0    0   \n",
       "4                      20880                   43        7462    1    0    0   \n",
       "\n",
       "   DX4  DX5  \n",
       "0    0    0  \n",
       "1    0    0  \n",
       "2    0    0  \n",
       "3    0    0  \n",
       "4    0    0  "
      ]
     },
     "execution_count": 37,
     "metadata": {},
     "output_type": "execute_result"
    }
   ],
   "source": [
    "pharma_data_new.head()"
   ]
  },
  {
   "cell_type": "code",
   "execution_count": 38,
   "metadata": {},
   "outputs": [],
   "source": [
    "pharma_data_new['num_of_drugs']=num_of_drugs"
   ]
  },
  {
   "cell_type": "code",
   "execution_count": 39,
   "metadata": {},
   "outputs": [],
   "source": [
    "pharma_data_new['Patient_Age']=pharma_data['Patient_Age']\n",
    "pharma_data_new['Patient_Body_Mass_Index']=pharma_data['Patient_Body_Mass_Index']\n",
    "pharma_data_new['Patient_Smoker']=pharma_data['Patient_Smoker']\n",
    "pharma_data_new['Patient_Rural_Urban']=pharma_data['Patient_Rural_Urban']  \n",
    "pharma_data_new['A']=pharma_data['A']\n",
    "pharma_data_new['B']=pharma_data['B']\n",
    "pharma_data_new['C']=pharma_data['C']\n",
    "pharma_data_new['D']=pharma_data['D']\n",
    "pharma_data_new['E']=pharma_data['E']\n",
    "pharma_data_new['F']=pharma_data['F']\n",
    "pharma_data_new['Z']=pharma_data['Z']\n",
    "pharma_data_new['Number_of_prev_cond']=pharma_data['Number_of_prev_cond']\n",
    "pharma_data_new['Survived_1_year']=pharma_data['Survived_1_year']"
   ]
  },
  {
   "cell_type": "code",
   "execution_count": 40,
   "metadata": {},
   "outputs": [
    {
     "data": {
      "text/html": [
       "<div>\n",
       "<style scoped>\n",
       "    .dataframe tbody tr th:only-of-type {\n",
       "        vertical-align: middle;\n",
       "    }\n",
       "\n",
       "    .dataframe tbody tr th {\n",
       "        vertical-align: top;\n",
       "    }\n",
       "\n",
       "    .dataframe thead th {\n",
       "        text-align: right;\n",
       "    }\n",
       "</style>\n",
       "<table border=\"1\" class=\"dataframe\">\n",
       "  <thead>\n",
       "    <tr style=\"text-align: right;\">\n",
       "      <th></th>\n",
       "      <th>ID_Patient_Care_Situation</th>\n",
       "      <th>Diagnosed_Condition</th>\n",
       "      <th>Patient_ID</th>\n",
       "      <th>DX1</th>\n",
       "      <th>DX2</th>\n",
       "      <th>DX3</th>\n",
       "      <th>DX4</th>\n",
       "      <th>DX5</th>\n",
       "      <th>num_of_drugs</th>\n",
       "      <th>Patient_Age</th>\n",
       "      <th>...</th>\n",
       "      <th>Patient_Rural_Urban</th>\n",
       "      <th>A</th>\n",
       "      <th>B</th>\n",
       "      <th>C</th>\n",
       "      <th>D</th>\n",
       "      <th>E</th>\n",
       "      <th>F</th>\n",
       "      <th>Z</th>\n",
       "      <th>Number_of_prev_cond</th>\n",
       "      <th>Survived_1_year</th>\n",
       "    </tr>\n",
       "  </thead>\n",
       "  <tbody>\n",
       "    <tr>\n",
       "      <th>0</th>\n",
       "      <td>16201</td>\n",
       "      <td>47</td>\n",
       "      <td>8433</td>\n",
       "      <td>0</td>\n",
       "      <td>1</td>\n",
       "      <td>0</td>\n",
       "      <td>0</td>\n",
       "      <td>0</td>\n",
       "      <td>1</td>\n",
       "      <td>60</td>\n",
       "      <td>...</td>\n",
       "      <td>1</td>\n",
       "      <td>1.0</td>\n",
       "      <td>0.0</td>\n",
       "      <td>0.0</td>\n",
       "      <td>0.0</td>\n",
       "      <td>1.0</td>\n",
       "      <td>0.0</td>\n",
       "      <td>0.0</td>\n",
       "      <td>2.0</td>\n",
       "      <td>1</td>\n",
       "    </tr>\n",
       "    <tr>\n",
       "      <th>1</th>\n",
       "      <td>9421</td>\n",
       "      <td>3</td>\n",
       "      <td>2972</td>\n",
       "      <td>0</td>\n",
       "      <td>0</td>\n",
       "      <td>0</td>\n",
       "      <td>0</td>\n",
       "      <td>0</td>\n",
       "      <td>0</td>\n",
       "      <td>2</td>\n",
       "      <td>...</td>\n",
       "      <td>0</td>\n",
       "      <td>1.0</td>\n",
       "      <td>0.0</td>\n",
       "      <td>1.0</td>\n",
       "      <td>0.0</td>\n",
       "      <td>1.0</td>\n",
       "      <td>0.0</td>\n",
       "      <td>0.0</td>\n",
       "      <td>3.0</td>\n",
       "      <td>0</td>\n",
       "    </tr>\n",
       "    <tr>\n",
       "      <th>2</th>\n",
       "      <td>16205</td>\n",
       "      <td>7</td>\n",
       "      <td>8608</td>\n",
       "      <td>0</td>\n",
       "      <td>0</td>\n",
       "      <td>0</td>\n",
       "      <td>0</td>\n",
       "      <td>0</td>\n",
       "      <td>0</td>\n",
       "      <td>20</td>\n",
       "      <td>...</td>\n",
       "      <td>0</td>\n",
       "      <td>1.0</td>\n",
       "      <td>0.0</td>\n",
       "      <td>0.0</td>\n",
       "      <td>0.0</td>\n",
       "      <td>1.0</td>\n",
       "      <td>0.0</td>\n",
       "      <td>0.0</td>\n",
       "      <td>2.0</td>\n",
       "      <td>1</td>\n",
       "    </tr>\n",
       "    <tr>\n",
       "      <th>3</th>\n",
       "      <td>5582</td>\n",
       "      <td>31</td>\n",
       "      <td>10074</td>\n",
       "      <td>0</td>\n",
       "      <td>0</td>\n",
       "      <td>0</td>\n",
       "      <td>0</td>\n",
       "      <td>0</td>\n",
       "      <td>0</td>\n",
       "      <td>8</td>\n",
       "      <td>...</td>\n",
       "      <td>0</td>\n",
       "      <td>1.0</td>\n",
       "      <td>0.0</td>\n",
       "      <td>0.0</td>\n",
       "      <td>0.0</td>\n",
       "      <td>1.0</td>\n",
       "      <td>0.0</td>\n",
       "      <td>0.0</td>\n",
       "      <td>2.0</td>\n",
       "      <td>0</td>\n",
       "    </tr>\n",
       "    <tr>\n",
       "      <th>4</th>\n",
       "      <td>20880</td>\n",
       "      <td>43</td>\n",
       "      <td>7462</td>\n",
       "      <td>1</td>\n",
       "      <td>0</td>\n",
       "      <td>0</td>\n",
       "      <td>0</td>\n",
       "      <td>0</td>\n",
       "      <td>1</td>\n",
       "      <td>53</td>\n",
       "      <td>...</td>\n",
       "      <td>0</td>\n",
       "      <td>1.0</td>\n",
       "      <td>0.0</td>\n",
       "      <td>0.0</td>\n",
       "      <td>0.0</td>\n",
       "      <td>0.0</td>\n",
       "      <td>0.0</td>\n",
       "      <td>0.0</td>\n",
       "      <td>1.0</td>\n",
       "      <td>1</td>\n",
       "    </tr>\n",
       "  </tbody>\n",
       "</table>\n",
       "<p>5 rows × 22 columns</p>\n",
       "</div>"
      ],
      "text/plain": [
       "   ID_Patient_Care_Situation  Diagnosed_Condition  Patient_ID  DX1  DX2  DX3  \\\n",
       "0                      16201                   47        8433    0    1    0   \n",
       "1                       9421                    3        2972    0    0    0   \n",
       "2                      16205                    7        8608    0    0    0   \n",
       "3                       5582                   31       10074    0    0    0   \n",
       "4                      20880                   43        7462    1    0    0   \n",
       "\n",
       "   DX4  DX5  num_of_drugs  Patient_Age  ...  Patient_Rural_Urban    A    B  \\\n",
       "0    0    0             1           60  ...                    1  1.0  0.0   \n",
       "1    0    0             0            2  ...                    0  1.0  0.0   \n",
       "2    0    0             0           20  ...                    0  1.0  0.0   \n",
       "3    0    0             0            8  ...                    0  1.0  0.0   \n",
       "4    0    0             1           53  ...                    0  1.0  0.0   \n",
       "\n",
       "     C    D    E    F    Z  Number_of_prev_cond  Survived_1_year  \n",
       "0  0.0  0.0  1.0  0.0  0.0                  2.0                1  \n",
       "1  1.0  0.0  1.0  0.0  0.0                  3.0                0  \n",
       "2  0.0  0.0  1.0  0.0  0.0                  2.0                1  \n",
       "3  0.0  0.0  1.0  0.0  0.0                  2.0                0  \n",
       "4  0.0  0.0  0.0  0.0  0.0                  1.0                1  \n",
       "\n",
       "[5 rows x 22 columns]"
      ]
     },
     "execution_count": 40,
     "metadata": {},
     "output_type": "execute_result"
    }
   ],
   "source": [
    "pharma_data_new.head()"
   ]
  },
  {
   "cell_type": "code",
   "execution_count": 41,
   "metadata": {},
   "outputs": [],
   "source": [
    "x=pharma_data_new.drop('Survived_1_year',axis=1)\n",
    "y=pharma_data_new['Survived_1_year']"
   ]
  },
  {
   "cell_type": "code",
   "execution_count": 42,
   "metadata": {},
   "outputs": [],
   "source": [
    "x_train,x_test,y_train,y_test=train_test_split(x,y,test_size=0.1,random_state=13)"
   ]
  },
  {
   "cell_type": "code",
   "execution_count": 278,
   "metadata": {},
   "outputs": [
    {
     "data": {
      "text/plain": [
       "RandomForestClassifier(bootstrap=True, class_weight=None, criterion='gini',\n",
       "            max_depth=17, max_features='auto', max_leaf_nodes=None,\n",
       "            min_impurity_decrease=0.0, min_impurity_split=None,\n",
       "            min_samples_leaf=1, min_samples_split=2,\n",
       "            min_weight_fraction_leaf=0.0, n_estimators=455, n_jobs=None,\n",
       "            oob_score=False, random_state=42, verbose=0, warm_start=False)"
      ]
     },
     "execution_count": 278,
     "metadata": {},
     "output_type": "execute_result"
    }
   ],
   "source": [
    "from sklearn.ensemble import RandomForestClassifier\n",
    "from sklearn.datasets import make_classification\n",
    "clf = RandomForestClassifier(random_state=42,n_estimators=455,max_depth=17)\n",
    "clf.fit(x_train, y_train)"
   ]
  },
  {
   "cell_type": "code",
   "execution_count": 279,
   "metadata": {},
   "outputs": [],
   "source": [
    "y_pred=clf.predict(x_test)\n",
    "y_pred_train=clf.predict(x_train)"
   ]
  },
  {
   "cell_type": "code",
   "execution_count": 280,
   "metadata": {},
   "outputs": [
    {
     "name": "stdout",
     "output_type": "stream",
     "text": [
      "Test Accuracy: 0.8452950558213717\n",
      "Train Accuracy: 0.974657746666076\n"
     ]
    }
   ],
   "source": [
    "print(f\"Test Accuracy: {sklearn.metrics.accuracy_score(y_test,y_pred)}\")\n",
    "print(f\"Train Accuracy: {sklearn.metrics.accuracy_score(y_train,y_pred_train)}\")"
   ]
  },
  {
   "cell_type": "code",
   "execution_count": 281,
   "metadata": {},
   "outputs": [
    {
     "data": {
      "text/plain": [
       "0.9160353535353535"
      ]
     },
     "execution_count": 281,
     "metadata": {},
     "output_type": "execute_result"
    }
   ],
   "source": [
    "from sklearn.metrics import recall_score\n",
    "recall_score(y_test, y_pred)"
   ]
  },
  {
   "cell_type": "code",
   "execution_count": 282,
   "metadata": {},
   "outputs": [
    {
     "data": {
      "text/plain": [
       "0.8820668693009117"
      ]
     },
     "execution_count": 282,
     "metadata": {},
     "output_type": "execute_result"
    }
   ],
   "source": [
    "from sklearn.metrics import f1_score\n",
    "f1_score(y_test, y_pred)"
   ]
  },
  {
   "cell_type": "code",
   "execution_count": 76,
   "metadata": {},
   "outputs": [],
   "source": [
    "test_new = pd.read_csv('https://raw.githubusercontent.com/dphi-official/Datasets/master/pharma_data/Testing_set_advc.csv',low_memory=False)"
   ]
  },
  {
   "cell_type": "code",
   "execution_count": 77,
   "metadata": {},
   "outputs": [
    {
     "data": {
      "text/html": [
       "<div>\n",
       "<style scoped>\n",
       "    .dataframe tbody tr th:only-of-type {\n",
       "        vertical-align: middle;\n",
       "    }\n",
       "\n",
       "    .dataframe tbody tr th {\n",
       "        vertical-align: top;\n",
       "    }\n",
       "\n",
       "    .dataframe thead th {\n",
       "        text-align: right;\n",
       "    }\n",
       "</style>\n",
       "<table border=\"1\" class=\"dataframe\">\n",
       "  <thead>\n",
       "    <tr style=\"text-align: right;\">\n",
       "      <th></th>\n",
       "      <th>ID_Patient_Care_Situation</th>\n",
       "      <th>Diagnosed_Condition</th>\n",
       "      <th>Patient_ID</th>\n",
       "      <th>Treated_with_drugs</th>\n",
       "      <th>Patient_Age</th>\n",
       "      <th>Patient_Body_Mass_Index</th>\n",
       "      <th>Patient_Smoker</th>\n",
       "      <th>Patient_Rural_Urban</th>\n",
       "      <th>Patient_mental_condition</th>\n",
       "      <th>A</th>\n",
       "      <th>B</th>\n",
       "      <th>C</th>\n",
       "      <th>D</th>\n",
       "      <th>E</th>\n",
       "      <th>F</th>\n",
       "      <th>Z</th>\n",
       "      <th>Number_of_prev_cond</th>\n",
       "    </tr>\n",
       "  </thead>\n",
       "  <tbody>\n",
       "    <tr>\n",
       "      <th>0</th>\n",
       "      <td>24206</td>\n",
       "      <td>35</td>\n",
       "      <td>4640</td>\n",
       "      <td>DX5</td>\n",
       "      <td>65</td>\n",
       "      <td>20.710365</td>\n",
       "      <td>NO</td>\n",
       "      <td>RURAL</td>\n",
       "      <td>Stable</td>\n",
       "      <td>1.0</td>\n",
       "      <td>0.0</td>\n",
       "      <td>0.0</td>\n",
       "      <td>0.0</td>\n",
       "      <td>1.0</td>\n",
       "      <td>0.0</td>\n",
       "      <td>0.0</td>\n",
       "      <td>2.0</td>\n",
       "    </tr>\n",
       "    <tr>\n",
       "      <th>1</th>\n",
       "      <td>32827</td>\n",
       "      <td>30</td>\n",
       "      <td>3214</td>\n",
       "      <td>dx1</td>\n",
       "      <td>2</td>\n",
       "      <td>24.250219</td>\n",
       "      <td>NO</td>\n",
       "      <td>URBAN</td>\n",
       "      <td>Stable</td>\n",
       "      <td>1.0</td>\n",
       "      <td>0.0</td>\n",
       "      <td>0.0</td>\n",
       "      <td>0.0</td>\n",
       "      <td>1.0</td>\n",
       "      <td>0.0</td>\n",
       "      <td>0.0</td>\n",
       "      <td>2.0</td>\n",
       "    </tr>\n",
       "    <tr>\n",
       "      <th>2</th>\n",
       "      <td>3694</td>\n",
       "      <td>46</td>\n",
       "      <td>3564</td>\n",
       "      <td>dx6</td>\n",
       "      <td>1</td>\n",
       "      <td>27.139276</td>\n",
       "      <td>NO</td>\n",
       "      <td>URBAN</td>\n",
       "      <td>Stable</td>\n",
       "      <td>1.0</td>\n",
       "      <td>0.0</td>\n",
       "      <td>0.0</td>\n",
       "      <td>0.0</td>\n",
       "      <td>0.0</td>\n",
       "      <td>0.0</td>\n",
       "      <td>0.0</td>\n",
       "      <td>1.0</td>\n",
       "    </tr>\n",
       "    <tr>\n",
       "      <th>3</th>\n",
       "      <td>7164</td>\n",
       "      <td>44</td>\n",
       "      <td>5176</td>\n",
       "      <td>DX1</td>\n",
       "      <td>29</td>\n",
       "      <td>29.191759</td>\n",
       "      <td>NO</td>\n",
       "      <td>RURAL</td>\n",
       "      <td>Stable</td>\n",
       "      <td>0.0</td>\n",
       "      <td>0.0</td>\n",
       "      <td>1.0</td>\n",
       "      <td>0.0</td>\n",
       "      <td>1.0</td>\n",
       "      <td>0.0</td>\n",
       "      <td>0.0</td>\n",
       "      <td>2.0</td>\n",
       "    </tr>\n",
       "    <tr>\n",
       "      <th>4</th>\n",
       "      <td>1259</td>\n",
       "      <td>30</td>\n",
       "      <td>1101</td>\n",
       "      <td>DX5</td>\n",
       "      <td>51</td>\n",
       "      <td>20.844146</td>\n",
       "      <td>NO</td>\n",
       "      <td>URBAN</td>\n",
       "      <td>Stable</td>\n",
       "      <td>0.0</td>\n",
       "      <td>0.0</td>\n",
       "      <td>0.0</td>\n",
       "      <td>0.0</td>\n",
       "      <td>1.0</td>\n",
       "      <td>0.0</td>\n",
       "      <td>0.0</td>\n",
       "      <td>1.0</td>\n",
       "    </tr>\n",
       "  </tbody>\n",
       "</table>\n",
       "</div>"
      ],
      "text/plain": [
       "   ID_Patient_Care_Situation  Diagnosed_Condition  Patient_ID  \\\n",
       "0                      24206                   35        4640   \n",
       "1                      32827                   30        3214   \n",
       "2                       3694                   46        3564   \n",
       "3                       7164                   44        5176   \n",
       "4                       1259                   30        1101   \n",
       "\n",
       "  Treated_with_drugs  Patient_Age  Patient_Body_Mass_Index Patient_Smoker  \\\n",
       "0               DX5            65                20.710365             NO   \n",
       "1               dx1             2                24.250219            NO    \n",
       "2               dx6             1                27.139276             NO   \n",
       "3               DX1            29                29.191759            NO    \n",
       "4               DX5            51                20.844146             NO   \n",
       "\n",
       "  Patient_Rural_Urban Patient_mental_condition    A    B    C    D    E    F  \\\n",
       "0               RURAL                   Stable  1.0  0.0  0.0  0.0  1.0  0.0   \n",
       "1               URBAN                   Stable  1.0  0.0  0.0  0.0  1.0  0.0   \n",
       "2               URBAN                   Stable  1.0  0.0  0.0  0.0  0.0  0.0   \n",
       "3               RURAL                   Stable  0.0  0.0  1.0  0.0  1.0  0.0   \n",
       "4               URBAN                   Stable  0.0  0.0  0.0  0.0  1.0  0.0   \n",
       "\n",
       "     Z  Number_of_prev_cond  \n",
       "0  0.0                  2.0  \n",
       "1  0.0                  2.0  \n",
       "2  0.0                  1.0  \n",
       "3  0.0                  2.0  \n",
       "4  0.0                  1.0  "
      ]
     },
     "execution_count": 77,
     "metadata": {},
     "output_type": "execute_result"
    }
   ],
   "source": [
    "test_new.head()"
   ]
  },
  {
   "cell_type": "code",
   "execution_count": 79,
   "metadata": {},
   "outputs": [],
   "source": [
    "test_new=test_new.drop('Patient_mental_condition',axis=1)"
   ]
  },
  {
   "cell_type": "code",
   "execution_count": 78,
   "metadata": {},
   "outputs": [
    {
     "data": {
      "text/plain": [
       "array(['NO', 'NO ', 'YES ', 'YES', 'YESS', 'YESS '], dtype=object)"
      ]
     },
     "execution_count": 78,
     "metadata": {},
     "output_type": "execute_result"
    }
   ],
   "source": [
    "test_new['Patient_Smoker'].unique()"
   ]
  },
  {
   "cell_type": "code",
   "execution_count": 81,
   "metadata": {},
   "outputs": [],
   "source": [
    "test_new['Patient_Smoker']=test_new['Patient_Smoker'].replace({'NO':0, 'NO ':0, 'YES ':1, 'YES':1, 'YESS':1, 'YESS ':1})\n",
    "test_new['Patient_Rural_Urban']=test_new['Patient_Rural_Urban'].replace({'RURAL':0,'URBAN':1})"
   ]
  },
  {
   "cell_type": "code",
   "execution_count": 82,
   "metadata": {},
   "outputs": [
    {
     "data": {
      "text/html": [
       "<div>\n",
       "<style scoped>\n",
       "    .dataframe tbody tr th:only-of-type {\n",
       "        vertical-align: middle;\n",
       "    }\n",
       "\n",
       "    .dataframe tbody tr th {\n",
       "        vertical-align: top;\n",
       "    }\n",
       "\n",
       "    .dataframe thead th {\n",
       "        text-align: right;\n",
       "    }\n",
       "</style>\n",
       "<table border=\"1\" class=\"dataframe\">\n",
       "  <thead>\n",
       "    <tr style=\"text-align: right;\">\n",
       "      <th></th>\n",
       "      <th>ID_Patient_Care_Situation</th>\n",
       "      <th>Diagnosed_Condition</th>\n",
       "      <th>Patient_ID</th>\n",
       "      <th>Treated_with_drugs</th>\n",
       "      <th>Patient_Age</th>\n",
       "      <th>Patient_Body_Mass_Index</th>\n",
       "      <th>Patient_Smoker</th>\n",
       "      <th>Patient_Rural_Urban</th>\n",
       "      <th>A</th>\n",
       "      <th>B</th>\n",
       "      <th>C</th>\n",
       "      <th>D</th>\n",
       "      <th>E</th>\n",
       "      <th>F</th>\n",
       "      <th>Z</th>\n",
       "      <th>Number_of_prev_cond</th>\n",
       "    </tr>\n",
       "  </thead>\n",
       "  <tbody>\n",
       "    <tr>\n",
       "      <th>0</th>\n",
       "      <td>24206</td>\n",
       "      <td>35</td>\n",
       "      <td>4640</td>\n",
       "      <td>DX5</td>\n",
       "      <td>65</td>\n",
       "      <td>20.710365</td>\n",
       "      <td>0</td>\n",
       "      <td>0</td>\n",
       "      <td>1.0</td>\n",
       "      <td>0.0</td>\n",
       "      <td>0.0</td>\n",
       "      <td>0.0</td>\n",
       "      <td>1.0</td>\n",
       "      <td>0.0</td>\n",
       "      <td>0.0</td>\n",
       "      <td>2.0</td>\n",
       "    </tr>\n",
       "    <tr>\n",
       "      <th>1</th>\n",
       "      <td>32827</td>\n",
       "      <td>30</td>\n",
       "      <td>3214</td>\n",
       "      <td>dx1</td>\n",
       "      <td>2</td>\n",
       "      <td>24.250219</td>\n",
       "      <td>0</td>\n",
       "      <td>1</td>\n",
       "      <td>1.0</td>\n",
       "      <td>0.0</td>\n",
       "      <td>0.0</td>\n",
       "      <td>0.0</td>\n",
       "      <td>1.0</td>\n",
       "      <td>0.0</td>\n",
       "      <td>0.0</td>\n",
       "      <td>2.0</td>\n",
       "    </tr>\n",
       "    <tr>\n",
       "      <th>2</th>\n",
       "      <td>3694</td>\n",
       "      <td>46</td>\n",
       "      <td>3564</td>\n",
       "      <td>dx6</td>\n",
       "      <td>1</td>\n",
       "      <td>27.139276</td>\n",
       "      <td>0</td>\n",
       "      <td>1</td>\n",
       "      <td>1.0</td>\n",
       "      <td>0.0</td>\n",
       "      <td>0.0</td>\n",
       "      <td>0.0</td>\n",
       "      <td>0.0</td>\n",
       "      <td>0.0</td>\n",
       "      <td>0.0</td>\n",
       "      <td>1.0</td>\n",
       "    </tr>\n",
       "    <tr>\n",
       "      <th>3</th>\n",
       "      <td>7164</td>\n",
       "      <td>44</td>\n",
       "      <td>5176</td>\n",
       "      <td>DX1</td>\n",
       "      <td>29</td>\n",
       "      <td>29.191759</td>\n",
       "      <td>0</td>\n",
       "      <td>0</td>\n",
       "      <td>0.0</td>\n",
       "      <td>0.0</td>\n",
       "      <td>1.0</td>\n",
       "      <td>0.0</td>\n",
       "      <td>1.0</td>\n",
       "      <td>0.0</td>\n",
       "      <td>0.0</td>\n",
       "      <td>2.0</td>\n",
       "    </tr>\n",
       "    <tr>\n",
       "      <th>4</th>\n",
       "      <td>1259</td>\n",
       "      <td>30</td>\n",
       "      <td>1101</td>\n",
       "      <td>DX5</td>\n",
       "      <td>51</td>\n",
       "      <td>20.844146</td>\n",
       "      <td>0</td>\n",
       "      <td>1</td>\n",
       "      <td>0.0</td>\n",
       "      <td>0.0</td>\n",
       "      <td>0.0</td>\n",
       "      <td>0.0</td>\n",
       "      <td>1.0</td>\n",
       "      <td>0.0</td>\n",
       "      <td>0.0</td>\n",
       "      <td>1.0</td>\n",
       "    </tr>\n",
       "  </tbody>\n",
       "</table>\n",
       "</div>"
      ],
      "text/plain": [
       "   ID_Patient_Care_Situation  Diagnosed_Condition  Patient_ID  \\\n",
       "0                      24206                   35        4640   \n",
       "1                      32827                   30        3214   \n",
       "2                       3694                   46        3564   \n",
       "3                       7164                   44        5176   \n",
       "4                       1259                   30        1101   \n",
       "\n",
       "  Treated_with_drugs  Patient_Age  Patient_Body_Mass_Index  Patient_Smoker  \\\n",
       "0               DX5            65                20.710365               0   \n",
       "1               dx1             2                24.250219               0   \n",
       "2               dx6             1                27.139276               0   \n",
       "3               DX1            29                29.191759               0   \n",
       "4               DX5            51                20.844146               0   \n",
       "\n",
       "   Patient_Rural_Urban    A    B    C    D    E    F    Z  Number_of_prev_cond  \n",
       "0                    0  1.0  0.0  0.0  0.0  1.0  0.0  0.0                  2.0  \n",
       "1                    1  1.0  0.0  0.0  0.0  1.0  0.0  0.0                  2.0  \n",
       "2                    1  1.0  0.0  0.0  0.0  0.0  0.0  0.0                  1.0  \n",
       "3                    0  0.0  0.0  1.0  0.0  1.0  0.0  0.0                  2.0  \n",
       "4                    1  0.0  0.0  0.0  0.0  1.0  0.0  0.0                  1.0  "
      ]
     },
     "execution_count": 82,
     "metadata": {},
     "output_type": "execute_result"
    }
   ],
   "source": [
    "test_new.head()"
   ]
  },
  {
   "cell_type": "code",
   "execution_count": 83,
   "metadata": {},
   "outputs": [],
   "source": [
    "test_new['Treated_with_drugs']=test_new['Treated_with_drugs'].str.upper()"
   ]
  },
  {
   "cell_type": "code",
   "execution_count": 95,
   "metadata": {},
   "outputs": [
    {
     "data": {
      "text/plain": [
       "array(['DX5', 'DX1', 'DX6', 'DX3', 'DX2 DX3', 'DX4', 'DX2', 'DX3 DX5',\n",
       "       'DX1 DX4', 'DX1 DX2', 'DX1 DX3 DX4 DX5', 'DX1 DX3 DX4', 'DX2 DX5',\n",
       "       'DX4 DX5', 'DX3 DX4', 'DX2 DX3 DX4', 'DX1 DX3', 'DX2 DX4',\n",
       "       'DX1 DX3 DX5', 'DX1 DX5', 'DX1 DX2 DX4', 'DX2 DX4 DX5',\n",
       "       'DX3 DX4 DX5', 'DX1 DX2 DX5', 'DX2 DX3 DX5', 'DX1 DX2 DX3',\n",
       "       'DX1 DX2 DX4 DX5', 'DX1 DX2 DX3 DX4 DX5', 'DX1 DX2 DX3 DX4',\n",
       "       'DX1 DX4 DX5', 'DX2 DX3 DX4 DX5', 'DX1 DX2 DX3 DX5'], dtype=object)"
      ]
     },
     "execution_count": 95,
     "metadata": {},
     "output_type": "execute_result"
    }
   ],
   "source": [
    "test_new['Treated_with_drugs'].unique()"
   ]
  },
  {
   "cell_type": "code",
   "execution_count": 94,
   "metadata": {},
   "outputs": [],
   "source": [
    "test_new['Treated_with_drugs']=test_new['Treated_with_drugs'].replace({'DX5 ':'DX5','DX1 ':'DX1','DX6 ':'DX6','DX4 ':'DX4','DX2 ':'DX2','DX3 ':'DX3','DX1 DX4 ':'DX1 DX4','DX2 DX3 ':'DX2 DX3', 'DX3 DX5 ':'DX3 DX5','DX1 DX3 ':'DX1 DX3','DX1 DX5 ':'DX1 DX5','DX3 DX4 ':'DX3 DX4', 'DX2 DX4 ':'DX2 DX4', 'DX1 DX2 DX4 ':'DX1 DX2 DX4','DX2 DX3 DX5 ':'DX2 DX3 DX5','DX3 DX4 DX5 ':'DX3 DX4 DX5', 'DX4 DX5 ':'DX4 DX5','DX2 DX5 ':'DX2 DX5','DX1 DX3 DX4 ':'DX1 DX3 DX4', 'DX2 DX4 DX5 ':'DX2 DX4 DX5','DX1 DX2 DX4 DX5 ':'DX1 DX2 DX4 DX5','DX1 DX2 DX3 ':'DX1 DX2 DX3','DX2 DX3 DX4 ':'DX2 DX3 DX4', 'DX1 DX3 DX5 ':'DX1 DX3 DX5', 'DX1 DX3 DX4 DX5 ':'DX1 DX3 DX4 DX5', 'DX1 DX4 DX5 ':'DX1 DX4 DX5','DX1 DX2 DX5 ':'DX1 DX2 DX5', 'DX1 DX2 DX3 DX5 ': 'DX1 DX2 DX3 DX5', 'DX2 DX3 DX4 DX5 ':'DX2 DX3 DX4 DX5',\n",
    "       'DX1 DX2 DX3 DX4 DX5 ':'DX1 DX2 DX3 DX4 DX5', 'DX1 DX2 DX3 DX4 ':'DX1 DX2 DX3 DX4','DX1 DX2 ':'DX1 DX2'})"
   ]
  },
  {
   "cell_type": "code",
   "execution_count": 96,
   "metadata": {},
   "outputs": [
    {
     "data": {
      "text/html": [
       "<div>\n",
       "<style scoped>\n",
       "    .dataframe tbody tr th:only-of-type {\n",
       "        vertical-align: middle;\n",
       "    }\n",
       "\n",
       "    .dataframe tbody tr th {\n",
       "        vertical-align: top;\n",
       "    }\n",
       "\n",
       "    .dataframe thead th {\n",
       "        text-align: right;\n",
       "    }\n",
       "</style>\n",
       "<table border=\"1\" class=\"dataframe\">\n",
       "  <thead>\n",
       "    <tr style=\"text-align: right;\">\n",
       "      <th></th>\n",
       "      <th>ID_Patient_Care_Situation</th>\n",
       "      <th>Diagnosed_Condition</th>\n",
       "      <th>Patient_ID</th>\n",
       "      <th>Treated_with_drugs</th>\n",
       "      <th>Patient_Age</th>\n",
       "      <th>Patient_Body_Mass_Index</th>\n",
       "      <th>Patient_Smoker</th>\n",
       "      <th>Patient_Rural_Urban</th>\n",
       "      <th>A</th>\n",
       "      <th>B</th>\n",
       "      <th>C</th>\n",
       "      <th>D</th>\n",
       "      <th>E</th>\n",
       "      <th>F</th>\n",
       "      <th>Z</th>\n",
       "      <th>Number_of_prev_cond</th>\n",
       "    </tr>\n",
       "  </thead>\n",
       "  <tbody>\n",
       "    <tr>\n",
       "      <th>0</th>\n",
       "      <td>24206</td>\n",
       "      <td>35</td>\n",
       "      <td>4640</td>\n",
       "      <td>DX5</td>\n",
       "      <td>65</td>\n",
       "      <td>20.710365</td>\n",
       "      <td>0</td>\n",
       "      <td>0</td>\n",
       "      <td>1.0</td>\n",
       "      <td>0.0</td>\n",
       "      <td>0.0</td>\n",
       "      <td>0.0</td>\n",
       "      <td>1.0</td>\n",
       "      <td>0.0</td>\n",
       "      <td>0.0</td>\n",
       "      <td>2.0</td>\n",
       "    </tr>\n",
       "    <tr>\n",
       "      <th>1</th>\n",
       "      <td>32827</td>\n",
       "      <td>30</td>\n",
       "      <td>3214</td>\n",
       "      <td>DX1</td>\n",
       "      <td>2</td>\n",
       "      <td>24.250219</td>\n",
       "      <td>0</td>\n",
       "      <td>1</td>\n",
       "      <td>1.0</td>\n",
       "      <td>0.0</td>\n",
       "      <td>0.0</td>\n",
       "      <td>0.0</td>\n",
       "      <td>1.0</td>\n",
       "      <td>0.0</td>\n",
       "      <td>0.0</td>\n",
       "      <td>2.0</td>\n",
       "    </tr>\n",
       "    <tr>\n",
       "      <th>2</th>\n",
       "      <td>3694</td>\n",
       "      <td>46</td>\n",
       "      <td>3564</td>\n",
       "      <td>DX6</td>\n",
       "      <td>1</td>\n",
       "      <td>27.139276</td>\n",
       "      <td>0</td>\n",
       "      <td>1</td>\n",
       "      <td>1.0</td>\n",
       "      <td>0.0</td>\n",
       "      <td>0.0</td>\n",
       "      <td>0.0</td>\n",
       "      <td>0.0</td>\n",
       "      <td>0.0</td>\n",
       "      <td>0.0</td>\n",
       "      <td>1.0</td>\n",
       "    </tr>\n",
       "    <tr>\n",
       "      <th>3</th>\n",
       "      <td>7164</td>\n",
       "      <td>44</td>\n",
       "      <td>5176</td>\n",
       "      <td>DX1</td>\n",
       "      <td>29</td>\n",
       "      <td>29.191759</td>\n",
       "      <td>0</td>\n",
       "      <td>0</td>\n",
       "      <td>0.0</td>\n",
       "      <td>0.0</td>\n",
       "      <td>1.0</td>\n",
       "      <td>0.0</td>\n",
       "      <td>1.0</td>\n",
       "      <td>0.0</td>\n",
       "      <td>0.0</td>\n",
       "      <td>2.0</td>\n",
       "    </tr>\n",
       "    <tr>\n",
       "      <th>4</th>\n",
       "      <td>1259</td>\n",
       "      <td>30</td>\n",
       "      <td>1101</td>\n",
       "      <td>DX5</td>\n",
       "      <td>51</td>\n",
       "      <td>20.844146</td>\n",
       "      <td>0</td>\n",
       "      <td>1</td>\n",
       "      <td>0.0</td>\n",
       "      <td>0.0</td>\n",
       "      <td>0.0</td>\n",
       "      <td>0.0</td>\n",
       "      <td>1.0</td>\n",
       "      <td>0.0</td>\n",
       "      <td>0.0</td>\n",
       "      <td>1.0</td>\n",
       "    </tr>\n",
       "  </tbody>\n",
       "</table>\n",
       "</div>"
      ],
      "text/plain": [
       "   ID_Patient_Care_Situation  Diagnosed_Condition  Patient_ID  \\\n",
       "0                      24206                   35        4640   \n",
       "1                      32827                   30        3214   \n",
       "2                       3694                   46        3564   \n",
       "3                       7164                   44        5176   \n",
       "4                       1259                   30        1101   \n",
       "\n",
       "  Treated_with_drugs  Patient_Age  Patient_Body_Mass_Index  Patient_Smoker  \\\n",
       "0                DX5           65                20.710365               0   \n",
       "1                DX1            2                24.250219               0   \n",
       "2                DX6            1                27.139276               0   \n",
       "3                DX1           29                29.191759               0   \n",
       "4                DX5           51                20.844146               0   \n",
       "\n",
       "   Patient_Rural_Urban    A    B    C    D    E    F    Z  Number_of_prev_cond  \n",
       "0                    0  1.0  0.0  0.0  0.0  1.0  0.0  0.0                  2.0  \n",
       "1                    1  1.0  0.0  0.0  0.0  1.0  0.0  0.0                  2.0  \n",
       "2                    1  1.0  0.0  0.0  0.0  0.0  0.0  0.0                  1.0  \n",
       "3                    0  0.0  0.0  1.0  0.0  1.0  0.0  0.0                  2.0  \n",
       "4                    1  0.0  0.0  0.0  0.0  1.0  0.0  0.0                  1.0  "
      ]
     },
     "execution_count": 96,
     "metadata": {},
     "output_type": "execute_result"
    }
   ],
   "source": [
    "test_new.head()"
   ]
  },
  {
   "cell_type": "code",
   "execution_count": 97,
   "metadata": {},
   "outputs": [],
   "source": [
    "DX1=[]\n",
    "DX2=[]\n",
    "DX3=[]\n",
    "DX4=[]\n",
    "DX5=[]\n",
    "for i in range(len(test_new)):\n",
    "    s=[]\n",
    "    s=test_new['Treated_with_drugs'][i]\n",
    "    if s.find('DX1')!=-1:\n",
    "        DX1.append(1)\n",
    "    else:\n",
    "        DX1.append(0)\n",
    "    if s.find('DX2')!=-1:\n",
    "        DX2.append(1)\n",
    "    else:\n",
    "        DX2.append(0)\n",
    "    if s.find('DX3')!=-1:\n",
    "        DX3.append(1)\n",
    "    else:\n",
    "        DX3.append(0)    \n",
    "    if s.find('DX4')!=-1:\n",
    "        DX4.append(1)\n",
    "    else:\n",
    "        DX4.append(0)    \n",
    "    if s.find('DX5')!=-1:\n",
    "        DX5.append(1)\n",
    "    else:\n",
    "        DX5.append(0)   "
   ]
  },
  {
   "cell_type": "code",
   "execution_count": 100,
   "metadata": {},
   "outputs": [],
   "source": [
    "num_of_drugs=[]\n",
    "for i in range(len(DX1)):\n",
    "    num_of_drugs.append(DX1[i]+DX2[i]+DX3[i]+DX4[i]+DX5[i])"
   ]
  },
  {
   "cell_type": "code",
   "execution_count": 101,
   "metadata": {},
   "outputs": [
    {
     "data": {
      "text/plain": [
       "['ID_Patient_Care_Situation',\n",
       " 'Diagnosed_Condition',\n",
       " 'Patient_ID',\n",
       " 'Treated_with_drugs',\n",
       " 'Patient_Age',\n",
       " 'Patient_Body_Mass_Index',\n",
       " 'Patient_Smoker',\n",
       " 'Patient_Rural_Urban',\n",
       " 'A',\n",
       " 'B',\n",
       " 'C',\n",
       " 'D',\n",
       " 'E',\n",
       " 'F',\n",
       " 'Z',\n",
       " 'Number_of_prev_cond']"
      ]
     },
     "execution_count": 101,
     "metadata": {},
     "output_type": "execute_result"
    }
   ],
   "source": [
    "test_new.columns.tolist()"
   ]
  },
  {
   "cell_type": "code",
   "execution_count": 102,
   "metadata": {},
   "outputs": [],
   "source": [
    "test_new_1=test_new.drop(['Treated_with_drugs','Patient_Age','Patient_Body_Mass_Index','Patient_Smoker','Patient_Rural_Urban','A','B','C','D','E','F','Z','Number_of_prev_cond'],axis=1)"
   ]
  },
  {
   "cell_type": "code",
   "execution_count": 103,
   "metadata": {},
   "outputs": [
    {
     "data": {
      "text/html": [
       "<div>\n",
       "<style scoped>\n",
       "    .dataframe tbody tr th:only-of-type {\n",
       "        vertical-align: middle;\n",
       "    }\n",
       "\n",
       "    .dataframe tbody tr th {\n",
       "        vertical-align: top;\n",
       "    }\n",
       "\n",
       "    .dataframe thead th {\n",
       "        text-align: right;\n",
       "    }\n",
       "</style>\n",
       "<table border=\"1\" class=\"dataframe\">\n",
       "  <thead>\n",
       "    <tr style=\"text-align: right;\">\n",
       "      <th></th>\n",
       "      <th>ID_Patient_Care_Situation</th>\n",
       "      <th>Diagnosed_Condition</th>\n",
       "      <th>Patient_ID</th>\n",
       "    </tr>\n",
       "  </thead>\n",
       "  <tbody>\n",
       "    <tr>\n",
       "      <th>0</th>\n",
       "      <td>24206</td>\n",
       "      <td>35</td>\n",
       "      <td>4640</td>\n",
       "    </tr>\n",
       "    <tr>\n",
       "      <th>1</th>\n",
       "      <td>32827</td>\n",
       "      <td>30</td>\n",
       "      <td>3214</td>\n",
       "    </tr>\n",
       "    <tr>\n",
       "      <th>2</th>\n",
       "      <td>3694</td>\n",
       "      <td>46</td>\n",
       "      <td>3564</td>\n",
       "    </tr>\n",
       "    <tr>\n",
       "      <th>3</th>\n",
       "      <td>7164</td>\n",
       "      <td>44</td>\n",
       "      <td>5176</td>\n",
       "    </tr>\n",
       "    <tr>\n",
       "      <th>4</th>\n",
       "      <td>1259</td>\n",
       "      <td>30</td>\n",
       "      <td>1101</td>\n",
       "    </tr>\n",
       "  </tbody>\n",
       "</table>\n",
       "</div>"
      ],
      "text/plain": [
       "   ID_Patient_Care_Situation  Diagnosed_Condition  Patient_ID\n",
       "0                      24206                   35        4640\n",
       "1                      32827                   30        3214\n",
       "2                       3694                   46        3564\n",
       "3                       7164                   44        5176\n",
       "4                       1259                   30        1101"
      ]
     },
     "execution_count": 103,
     "metadata": {},
     "output_type": "execute_result"
    }
   ],
   "source": [
    "test_new_1.head()"
   ]
  },
  {
   "cell_type": "code",
   "execution_count": null,
   "metadata": {},
   "outputs": [],
   "source": []
  },
  {
   "cell_type": "code",
   "execution_count": 104,
   "metadata": {},
   "outputs": [],
   "source": [
    "test_new_1['DX1']=DX1\n",
    "test_new_1['DX2']=DX2\n",
    "test_new_1['DX3']=DX3\n",
    "test_new_1['DX4']=DX4\n",
    "test_new_1['DX5']=DX5"
   ]
  },
  {
   "cell_type": "code",
   "execution_count": 105,
   "metadata": {},
   "outputs": [],
   "source": [
    "test_new_1['num_of_drugs']=num_of_drugs"
   ]
  },
  {
   "cell_type": "code",
   "execution_count": 107,
   "metadata": {},
   "outputs": [],
   "source": [
    "test_new_1['Patient_Age']=test_new['Patient_Age']\n",
    "test_new_1['Patient_Body_Mass_Index']=test_new['Patient_Body_Mass_Index']\n",
    "test_new_1['Patient_Smoker']=test_new['Patient_Smoker']\n",
    "test_new_1['Patient_Rural_Urban']=test_new['Patient_Rural_Urban']  \n",
    "test_new_1['A']=test_new['A']\n",
    "test_new_1['B']=test_new['B']\n",
    "test_new_1['C']=test_new['C']\n",
    "test_new_1['D']=test_new['D']\n",
    "test_new_1['E']=test_new['E']\n",
    "test_new_1['F']=test_new['F']\n",
    "test_new_1['Z']=test_new['Z']\n",
    "test_new_1['Number_of_prev_cond']=test_new['Number_of_prev_cond']\n"
   ]
  },
  {
   "cell_type": "code",
   "execution_count": 109,
   "metadata": {},
   "outputs": [
    {
     "data": {
      "text/plain": [
       "Index(['ID_Patient_Care_Situation', 'Diagnosed_Condition', 'Patient_ID', 'DX1',\n",
       "       'DX2', 'DX3', 'DX4', 'DX5', 'num_of_drugs', 'Patient_Age',\n",
       "       'Patient_Body_Mass_Index', 'Patient_Smoker', 'Patient_Rural_Urban', 'A',\n",
       "       'B', 'C', 'D', 'E', 'F', 'Z', 'Number_of_prev_cond'],\n",
       "      dtype='object')"
      ]
     },
     "execution_count": 109,
     "metadata": {},
     "output_type": "execute_result"
    }
   ],
   "source": [
    "test_new_1.columns"
   ]
  },
  {
   "cell_type": "code",
   "execution_count": 275,
   "metadata": {},
   "outputs": [],
   "source": [
    "y_pred=clf.predict(test_new_1)"
   ]
  },
  {
   "cell_type": "code",
   "execution_count": 276,
   "metadata": {},
   "outputs": [],
   "source": [
    "res = pd.DataFrame(y_pred)\n",
    "res.index = test_new.index # its important for comparison\n",
    "res.columns = [\"pred\"]\n",
    "res.to_csv(\"survival12.csv\")  "
   ]
  },
  {
   "cell_type": "code",
   "execution_count": null,
   "metadata": {},
   "outputs": [],
   "source": []
  }
 ],
 "metadata": {
  "kernelspec": {
   "display_name": "Python 3",
   "language": "python",
   "name": "python3"
  },
  "language_info": {
   "codemirror_mode": {
    "name": "ipython",
    "version": 3
   },
   "file_extension": ".py",
   "mimetype": "text/x-python",
   "name": "python",
   "nbconvert_exporter": "python",
   "pygments_lexer": "ipython3",
   "version": "3.7.7"
  }
 },
 "nbformat": 4,
 "nbformat_minor": 2
}
